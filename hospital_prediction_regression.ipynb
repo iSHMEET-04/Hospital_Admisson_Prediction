{
  "nbformat": 4,
  "nbformat_minor": 0,
  "metadata": {
    "colab": {
      "provenance": [],
      "authorship_tag": "ABX9TyNTfHCBOmu4cn2RB5sJau3M",
      "include_colab_link": true
    },
    "kernelspec": {
      "name": "python3",
      "display_name": "Python 3"
    },
    "language_info": {
      "name": "python"
    }
  },
  "cells": [
    {
      "cell_type": "markdown",
      "metadata": {
        "id": "view-in-github",
        "colab_type": "text"
      },
      "source": [
        "<a href=\"https://colab.research.google.com/github/iSHMEET-04/Hospital_Admisson_Prediction/blob/main/hospital_prediction_regression.ipynb\" target=\"_parent\"><img src=\"https://colab.research.google.com/assets/colab-badge.svg\" alt=\"Open In Colab\"/></a>"
      ]
    },
    {
      "cell_type": "code",
      "source": [
        "import pandas as pd\n",
        "from google.colab import drive\n",
        "drive.mount('/content/drive', force_remount=True)\n",
        "file_path = '/content/drive/MyDrive/filtered_data.csv'\n",
        "data= pd.read_csv(file_path)"
      ],
      "metadata": {
        "id": "vMcIVfdubJGx",
        "colab": {
          "base_uri": "https://localhost:8080/"
        },
        "outputId": "05ca251c-5648-4e74-dfec-6e551b47f9a4"
      },
      "execution_count": null,
      "outputs": [
        {
          "output_type": "stream",
          "name": "stdout",
          "text": [
            "Mounted at /content/drive\n"
          ]
        }
      ]
    },
    {
      "cell_type": "code",
      "source": [
        "import numpy as np\n",
        "from sklearn.model_selection import train_test_split\n",
        "from sklearn.ensemble import RandomForestRegressor\n",
        "from sklearn.preprocessing import OneHotEncoder, StandardScaler\n",
        "from sklearn.metrics import mean_squared_error\n",
        "import pandas as pd\n",
        "\n",
        "\n",
        "df = pd.DataFrame(data)\n",
        "\n",
        "monthly_admissions = df.groupby('arrivalmonth')['admissions'].sum().reset_index()\n",
        "\n",
        "\n",
        "month_order = ['January', 'February', 'March', 'April', 'May', 'June',\n",
        "               'July', 'August', 'September', 'October', 'November', 'December']\n",
        "monthly_admissions['arrivalmonth'] = pd.Categorical(monthly_admissions['arrivalmonth'],\n",
        "                                                      categories=month_order, ordered=True)\n",
        "\n",
        "monthly_admissions = monthly_admissions.sort_values('arrivalmonth')\n",
        "\n",
        "print(monthly_admissions)\n",
        "\n",
        "\n",
        "df = pd.merge(df, monthly_admissions, on='arrival_month', suffixes=('', '_total'), how='left')\n",
        "\n",
        "gender_encoder = OneHotEncoder(sparse_output=False, handle_unknown='ignore')\n",
        "month_encoder = OneHotEncoder(sparse_output=False, handle_unknown='ignore')\n",
        "\n",
        "\n",
        "encoded_gender = gender_encoder.fit_transform(df[['gender']])\n",
        "encoded_month = month_encoder.fit_transform(df[['arrivalmonth']])\n",
        "\n",
        "\n",
        "scaler = StandardScaler()\n",
        "scaled_age = scaler.fit_transform(df[['age']])\n",
        "\n",
        "\n",
        "X = np.hstack((encoded_month, scaled_age, encoded_gender))\n",
        "\n",
        "\n",
        "admissions_mapping = df.groupby('arrivalmonth').size().to_dict()\n",
        "df['admissions_per_row'] = df['arrivalmonth'].map(admissions_mapping)\n",
        "\n",
        "\n",
        "y = df['admissions_per_row'].values\n",
        "\n",
        "\n",
        "X_train, X_test, y_train, y_test = train_test_split(X, y, test_size=0.2, random_state=42)\n",
        "\n",
        "\n",
        "model = RandomForestRegressor(n_estimators=100, random_state=42)\n",
        "model.fit(X_train, y_train)\n",
        "\n",
        "\n",
        "y_pred = model.predict(X_test)\n",
        "\n",
        "\n",
        "mse = mean_squared_error(y_test, y_pred)\n",
        "print(\"Mean Squared Error (MSE):\", mse)\n",
        "\n",
        "\n",
        "specific_month = 'January'\n",
        "specific_age = 28\n",
        "specific_gender = 'Male'\n",
        "\n",
        "\n",
        "input_encoded_month = month_encoder.transform(np.array([[specific_month]]))\n",
        "input_encoded_gender = gender_encoder.transform(np.array([[specific_gender]]))\n",
        "\n",
        "\n",
        "input_scaled_age = scaler.transform([[specific_age]])\n",
        "\n",
        "\n",
        "input_features = np.hstack((input_encoded_month, input_scaled_age, input_encoded_gender))\n",
        "\n",
        "\n",
        "predicted_admissions = model.predict(input_features)\n",
        "print(f'Predicted number of admissions for {specific_month}, Age: {specific_age}, Gender: {specific_gender}: {predicted_admissions[0]}')\n"
      ],
      "metadata": {
        "colab": {
          "base_uri": "https://localhost:8080/"
        },
        "id": "jZjXTZtik-c9",
        "outputId": "11aca6c0-3867-4384-c2c7-35d703c8e22e"
      },
      "execution_count": null,
      "outputs": [
        {
          "output_type": "stream",
          "name": "stdout",
          "text": [
            "Mean Squared Error (MSE): 0.0\n",
            "Predicted number of admissions for January, Age: 28, Gender: Male: 42749.0\n"
          ]
        },
        {
          "output_type": "stream",
          "name": "stderr",
          "text": [
            "/usr/local/lib/python3.10/dist-packages/sklearn/base.py:493: UserWarning: X does not have valid feature names, but OneHotEncoder was fitted with feature names\n",
            "  warnings.warn(\n",
            "/usr/local/lib/python3.10/dist-packages/sklearn/base.py:493: UserWarning: X does not have valid feature names, but OneHotEncoder was fitted with feature names\n",
            "  warnings.warn(\n",
            "/usr/local/lib/python3.10/dist-packages/sklearn/base.py:493: UserWarning: X does not have valid feature names, but StandardScaler was fitted with feature names\n",
            "  warnings.warn(\n"
          ]
        }
      ]
    },
    {
      "cell_type": "code",
      "source": [
        "import numpy as np\n",
        "from sklearn.model_selection import train_test_split\n",
        "from sklearn.linear_model import LinearRegression\n",
        "from sklearn.preprocessing import OneHotEncoder, StandardScaler\n",
        "from sklearn.metrics import mean_squared_error\n",
        "import pandas as pd\n",
        "from sklearn.impute import SimpleImputer\n",
        "\n",
        "\n",
        "df = pd.DataFrame(data)\n",
        "\n",
        "\n",
        "gender_encoder = OneHotEncoder(sparse_output=False, handle_unknown='ignore')\n",
        "month_encoder = OneHotEncoder(sparse_output=False, handle_unknown='ignore')\n",
        "\n",
        "encoded_gender = gender_encoder.fit_transform(df[['gender']])\n",
        "encoded_month = month_encoder.fit_transform(df[['arrivalmonth']])\n",
        "\n",
        "\n",
        "scaler = StandardScaler()\n",
        "scaled_age = scaler.fit_transform(df[['age']])\n",
        "\n",
        "X = np.hstack((encoded_month, scaled_age, encoded_gender))\n",
        "\n",
        "\n",
        "admissions_mapping = df.groupby('arrivalmonth').size().to_dict()\n",
        "df['admissions_per_row'] = df['arrivalmonth'].map(admissions_mapping)\n",
        "\n",
        "\n",
        "y = df['admissions_per_row'].values\n",
        "\n",
        "\n",
        "X_train, X_test, y_train, y_test = train_test_split(X, y, test_size=0.2, random_state=42)\n",
        "\n",
        "\n",
        "imputer = SimpleImputer(strategy='mean')\n",
        "X_train = imputer.fit_transform(X_train)\n",
        "X_test = imputer.transform(X_test)\n",
        "\n",
        "\n",
        "model = LinearRegression()\n",
        "model.fit(X_train, y_train)\n",
        "\n",
        "\n",
        "y_pred = model.predict(X_test)\n",
        "\n",
        "\n",
        "mse = mean_squared_error(y_test, y_pred)\n",
        "print(\"Mean Squared Error (MSE):\", mse)\n",
        "\n",
        "specific_month = 'January'\n",
        "specific_age = 28\n",
        "specific_gender = 'Male'\n",
        "\n",
        "\n",
        "input_encoded_month = month_encoder.transform(np.array([[specific_month]]))\n",
        "input_encoded_gender = gender_encoder.transform(np.array([[specific_gender]]))\n",
        "\n",
        "\n",
        "input_scaled_age = scaler.transform([[specific_age]])\n",
        "\n",
        "\n",
        "input_features = np.hstack((input_encoded_month, input_scaled_age, input_encoded_gender))\n",
        "\n",
        "\n",
        "predicted_admissions = model.predict(input_features)\n",
        "print(f'Predicted number of admissions for {specific_month}, Age: {specific_age}, Gender: {specific_gender}: {predicted_admissions[0]}')\n"
      ],
      "metadata": {
        "colab": {
          "base_uri": "https://localhost:8080/"
        },
        "id": "pIZTwwhXlvNc",
        "outputId": "23e89e97-3dec-4731-cea6-60b1783eb462"
      },
      "execution_count": null,
      "outputs": [
        {
          "output_type": "stream",
          "name": "stdout",
          "text": [
            "Mean Squared Error (MSE): 5.722278126044296e-22\n",
            "Predicted number of admissions for January, Age: 28, Gender: Male: 42748.99999999997\n"
          ]
        },
        {
          "output_type": "stream",
          "name": "stderr",
          "text": [
            "/usr/local/lib/python3.10/dist-packages/sklearn/base.py:493: UserWarning: X does not have valid feature names, but OneHotEncoder was fitted with feature names\n",
            "  warnings.warn(\n",
            "/usr/local/lib/python3.10/dist-packages/sklearn/base.py:493: UserWarning: X does not have valid feature names, but OneHotEncoder was fitted with feature names\n",
            "  warnings.warn(\n",
            "/usr/local/lib/python3.10/dist-packages/sklearn/base.py:493: UserWarning: X does not have valid feature names, but StandardScaler was fitted with feature names\n",
            "  warnings.warn(\n"
          ]
        }
      ]
    },
    {
      "cell_type": "code",
      "source": [
        "\n",
        "test_inputs = [\n",
        "    ('January', 28, 'Male'),\n",
        "    ('February', 32, 'Female'),\n",
        "    ('March', 45, 'Male'),\n",
        "    ('January', 50, 'Female'),\n",
        "    ('February', 25, 'Male'),\n",
        "]\n",
        "\n",
        "for month, age, gender in test_inputs:\n",
        "    input_data = pd.DataFrame({\n",
        "        'arrivalmonth': [month],\n",
        "        'age': [age],\n",
        "        'gender': [gender]\n",
        "    })\n",
        "\n",
        "    input_month_encoded = encoder_month.transform(input_data[['arrivalmonth']])\n",
        "    input_gender_encoded = encoder_gender.transform(input_data[['gender']])\n",
        "\n",
        "    input_scaled_age = scaler.transform(input_data[['age']])\n",
        "\n",
        "\n",
        "    input_features = np.hstack((input_month_encoded, input_scaled_age, input_gender_encoded))\n",
        "\n",
        "    predicted_admissions = model.predict(input_features)\n",
        "    print(f'Predicted number of admissions for {month}, Age: {age}, Gender: {gender}: {predicted_admissions[0]}')\n",
        "\n",
        "\n",
        "\n",
        "\n"
      ],
      "metadata": {
        "colab": {
          "base_uri": "https://localhost:8080/"
        },
        "id": "Mmx5qgUpeXk1",
        "outputId": "6d3f09d6-5118-40cf-99a1-390737279a02"
      },
      "execution_count": null,
      "outputs": [
        {
          "output_type": "stream",
          "name": "stdout",
          "text": [
            "Predicted number of admissions for January, Age: 28, Gender: Male: 42748.99999999997\n",
            "Predicted number of admissions for February, Age: 32, Gender: Female: 38201.999999999985\n",
            "Predicted number of admissions for March, Age: 45, Gender: Male: 56387.99999999997\n",
            "Predicted number of admissions for January, Age: 50, Gender: Female: 42748.999999999985\n",
            "Predicted number of admissions for February, Age: 25, Gender: Male: 38201.99999999997\n"
          ]
        }
      ]
    },
    {
      "cell_type": "code",
      "source": [
        "from sklearn.ensemble import RandomForestRegressor\n",
        "import matplotlib.pyplot as plt\n",
        "import numpy as np\n",
        "\n",
        "model = RandomForestRegressor(n_estimators=100, random_state=42)\n",
        "model.fit(X_train, y_train)\n",
        "\n",
        "\n",
        "importances = model.feature_importances_\n",
        "features = list(encoder_month.get_feature_names_out()) + list(encoder_gender.get_feature_names_out()) + ['age']\n",
        "\n",
        "\n",
        "num_features = min(len(features), len(importances))\n",
        "features = features[:num_features]\n",
        "importances = importances[:num_features]\n",
        "\n",
        "\n",
        "indices = np.argsort(importances)\n",
        "\n",
        "\n",
        "plt.figure(figsize=(10, 6))\n",
        "plt.title('Feature Importances')\n",
        "plt.barh(range(len(indices)), importances[indices], color='b', align='center')\n",
        "\n",
        "\n",
        "plt.yticks(range(len(indices)), [features[i] for i in indices])\n",
        "\n",
        "plt.xlabel('Relative Importance')\n",
        "plt.show()\n"
      ],
      "metadata": {
        "colab": {
          "base_uri": "https://localhost:8080/",
          "height": 517
        },
        "id": "8MSl-gaVnCKz",
        "outputId": "dec32b74-2a74-4d98-d71d-dbc403b99117"
      },
      "execution_count": null,
      "outputs": [
        {
          "output_type": "display_data",
          "data": {
            "text/plain": [
              "<Figure size 1000x600 with 1 Axes>"
            ],
            "image/png": "[encoded data removed]"
          },
          "metadata": {}
        }
      ]
    }
  ]
}